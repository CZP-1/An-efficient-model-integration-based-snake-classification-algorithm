{
 "cells": [
  {
   "cell_type": "code",
   "execution_count": 8,
   "metadata": {},
   "outputs": [
    {
     "name": "stdout",
     "output_type": "stream",
     "text": [
      "158698\n",
      "1572\n"
     ]
    }
   ],
   "source": [
    "import pandas as pd\n",
    "path_train = \"/home/data2/CZP/SnakeCLEF/matadata/SnakeCLEF2022-TrainMetadata.csv\"\n",
    "path_test = \"/home/data2/CZP/SnakeCLEF/matadata/SnakeCLEF2022-TestMetadata.csv\"\n",
    "train = pd.read_csv(path_train)\n",
    "test = pd.read_csv(path_test)\n",
    "Observationids = train['observation_id'].unique().tolist()\n",
    "classids = train['class_id'].unique().tolist()\n",
    "print(len(Observationids))\n",
    "print(len(classids))"
   ]
  },
  {
   "cell_type": "code",
   "execution_count": 12,
   "metadata": {},
   "outputs": [
    {
     "name": "stdout",
     "output_type": "stream",
     "text": [
      "28431\n",
      "48280\n"
     ]
    }
   ],
   "source": [
    "Observationids_test = test['observation_id'].unique().tolist()\n",
    "print(len(Observationids_test))\n",
    "print(len(test))"
   ]
  },
  {
   "cell_type": "code",
   "execution_count": 14,
   "metadata": {},
   "outputs": [
    {
     "name": "stdout",
     "output_type": "stream",
     "text": [
      "1572\n",
      "2152\n",
      "207\n",
      "2\n"
     ]
    }
   ],
   "source": [
    "binomial_names = train['binomial_name'].unique().tolist()\n",
    "countrys = train['country'].unique().tolist()\n",
    "codes = train['code'].unique().tolist()\n",
    "endemics = train['endemic'].unique().tolist()\n",
    "print(len(binomial_names))\n",
    "print(len(countrys))\n",
    "print(len(codes))\n",
    "print(len(endemics))"
   ]
  },
  {
   "cell_type": "code",
   "execution_count": 15,
   "metadata": {},
   "outputs": [
    {
     "name": "stdout",
     "output_type": "stream",
     "text": [
      "1450\n",
      "183\n"
     ]
    }
   ],
   "source": [
    "countrys_test = test['country'].unique().tolist()\n",
    "codes_test = test['code'].unique().tolist()\n",
    "print(len(countrys_test))\n",
    "print(len(codes_test))"
   ]
  },
  {
   "cell_type": "code",
   "execution_count": 24,
   "metadata": {},
   "outputs": [
    {
     "name": "stdout",
     "output_type": "stream",
     "text": [
      "observation_ids     NaN\n",
      "0                  71.0\n",
      "dtype: float64\n",
      "observation_ids    NaN\n",
      "0                  1.0\n",
      "dtype: float64\n"
     ]
    }
   ],
   "source": [
    "class_img = pd.DataFrame()\n",
    "max_class = 0\n",
    "min_class = 0\n",
    "\n",
    "obid_img = pd.DataFrame(columns=['observation_ids'])\n",
    "for i,Observationid in enumerate(Observationids) :\n",
    "    sample = train[(train['observation_id']==Observationid)]\n",
    "    obid_img.loc[i,0] = len(sample)\n",
    "print(obid_img.loc[:'observation_ids'].max())  \n",
    "print(obid_img.loc[:'observation_ids'].min())\n",
    "#     obid_img.to_csv(\"obid_img.csv\")     "
   ]
  },
  {
   "cell_type": "code",
   "execution_count": null,
   "metadata": {},
   "outputs": [],
   "source": []
  }
 ],
 "metadata": {
  "kernelspec": {
   "display_name": "Python 3",
   "language": "python",
   "name": "python3"
  },
  "language_info": {
   "codemirror_mode": {
    "name": "ipython",
    "version": 3
   },
   "file_extension": ".py",
   "mimetype": "text/x-python",
   "name": "python",
   "nbconvert_exporter": "python",
   "pygments_lexer": "ipython3",
   "version": "3.8.5"
  }
 },
 "nbformat": 4,
 "nbformat_minor": 4
}
